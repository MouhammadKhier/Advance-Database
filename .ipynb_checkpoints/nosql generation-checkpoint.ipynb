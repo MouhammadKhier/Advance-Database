{
 "cells": [
  {
   "cell_type": "code",
   "execution_count": 1,
   "metadata": {},
   "outputs": [],
   "source": [
    "from pymongo import MongoClient\n",
    "from pprint import pprint\n",
    "import random\n",
    "import string\n",
    "import xlrd\n",
    "import xlwt"
   ]
  },
  {
   "cell_type": "code",
   "execution_count": 2,
   "metadata": {},
   "outputs": [],
   "source": [
    "workbook = xlrd.open_workbook('worldcities.xlsx')\n",
    "worksheet = workbook.sheet_by_name('Sheet1')\n",
    "cities = worksheet.col_values(0)\n",
    "lenCities = len(cities) - 1"
   ]
  },
  {
   "cell_type": "code",
   "execution_count": 3,
   "metadata": {},
   "outputs": [],
   "source": [
    "capacities = [5, 7, 11]\n",
    "domains = [ \"hotmail.com\", \"gmail.com\", \"aol.com\", \"mail.com\" , \"mail.kz\", \"yahoo.com\"]\n",
    "d = len(domains) - 1"
   ]
  },
  {
   "cell_type": "code",
   "execution_count": 4,
   "metadata": {},
   "outputs": [],
   "source": [
    "workbook = xlrd.open_workbook('names.xls')\n",
    "worksheet = workbook.sheet_by_name('Sheet1')\n",
    "names = worksheet.col_values(0)\n",
    "length = len(names) - 1"
   ]
  },
  {
   "cell_type": "code",
   "execution_count": 5,
   "metadata": {},
   "outputs": [],
   "source": [
    "def get_password(length = 45):\n",
    "    password_characters = string.ascii_letters + string.digits + string.punctuation\n",
    "    password = ''.join(random.choice(password_characters) for i in range(length))\n",
    "    return password\n",
    "\n",
    "def exists(date):\n",
    "    for i in dates:\n",
    "        if(i == date):\n",
    "            return True\n",
    "    return False\n",
    "\n",
    "def get2digitString(num):\n",
    "    if(num<10):\n",
    "        num = '0' + str(num)\n",
    "    else:\n",
    "        num = str(num)\n",
    "    return num\n",
    "\n",
    "def get_date(first, end):\n",
    "    year = str(random.randint(first,end))\n",
    "    \n",
    "    month = get2digitString(random.randint(1,12))\n",
    "    \n",
    "    day = get2digitString(random.randint(1,30))\n",
    "        \n",
    "    return (year + '-' + month + '-' + day)\n",
    "\n",
    "def get_datetime(first, end):\n",
    "    year = str(random.randint(first,end))\n",
    "    \n",
    "    month = get2digitString(random.randint(1,12))\n",
    "    \n",
    "    day = get2digitString(random.randint(1,30))\n",
    "        \n",
    "    hour = get2digitString(random.randint(1,23))\n",
    "    \n",
    "    minute = get2digitString(random.randint(1,59))\n",
    "    \n",
    "    second = get2digitString(random.randint(1,59))\n",
    "        \n",
    "    return (year + month + day + ' ' + hour + ':' + minute + ':' + second)"
   ]
  },
  {
   "cell_type": "code",
   "execution_count": 6,
   "metadata": {},
   "outputs": [],
   "source": [
    "client = MongoClient()\n",
    "db=client.admin\n",
    "rows = 1000000"
   ]
  },
  {
   "cell_type": "code",
   "execution_count": 11,
   "metadata": {},
   "outputs": [
    {
     "name": "stdout",
     "output_type": "stream",
     "text": [
      "0\n",
      "100000\n",
      "200000\n",
      "300000\n",
      "400000\n",
      "500000\n",
      "600000\n",
      "700000\n",
      "800000\n",
      "900000\n"
     ]
    }
   ],
   "source": [
    "club_owner = db.club_owner\n",
    "\n",
    "for i in range(rows):\n",
    "    userName = names[random.randint(0,length)]\n",
    "    if(i % 100000 == 0):\n",
    "        print(i)\n",
    "    \n",
    "    owner = {   \"userName\": userName,\n",
    "                \"password\": get_password(),\n",
    "                \"firstName\": names[random.randint(0,length)],\n",
    "                \"lastName\": names[random.randint(0,length)],\n",
    "                \"email\": userName + str(i) + '@' + domains[random.randint(0,d)],\n",
    "                \"phone\": random.randint(1000000000, 1999999999),\n",
    "                \"club\": { \"name\": names[random.randint(0,length)],\n",
    "                          \"street\": names[random.randint(0,length)] + \".st\",\n",
    "                          \"city\": cities[random.randint(0,lenCities)], \n",
    "                          \"profit\": [\n",
    "                              {       \"date\": get_date(1900,2030), \n",
    "                                      \"outcome\": random.uniform(0,5000), \n",
    "                                      \"income\": random.uniform(0,5000)\n",
    "                              }\n",
    "                          ], \n",
    "                          \"pitch\": [\n",
    "                              {\n",
    "                                      \"pitch_num\": 1,\n",
    "                                      \"capacity\": capacities[random.randint(0,2)],\n",
    "                                      \"price\": random.uniform(25,100),\n",
    "                                      \"type\": random.randint(0,2)\n",
    "                              }\n",
    "                          ]\n",
    "                      }\n",
    "                }\n",
    "    result = club_owner.insert_one(owner)"
   ]
  },
  {
   "cell_type": "code",
   "execution_count": 19,
   "metadata": {},
   "outputs": [
    {
     "name": "stdout",
     "output_type": "stream",
     "text": [
      "5ff11323c861289859eacb45\n"
     ]
    }
   ],
   "source": [
    "COTable = club_owner.find({})"
   ]
  },
  {
   "cell_type": "code",
   "execution_count": null,
   "metadata": {},
   "outputs": [],
   "source": [
    "players = db.players\n",
    "\n",
    "for i in range(rows):\n",
    "    if(i % 100000 == 0):\n",
    "        print(i)\n",
    "    player = {  \"userName\" : names[random.randint(0,length)],\n",
    "                \"password\" : get_password(),\n",
    "                \"firstName\" : names[random.randint(0,length)],\n",
    "                \"lastName\" : names[random.randint(0,length)],\n",
    "                \"email\" : userName + str(i) + '@' + domains[random.randint(0,d)],\n",
    "                \"birthdate\" : get_date(1950,2002),\n",
    "                \"visa\" : random.randint(1000000000000000,9999999999999999),\n",
    "                \"phone\" : random.randint(1000000000, 1999999999),\n",
    "                \"schedule\" : {\n",
    "                    \"date\" : get_date(1900,2030),\n",
    "                    \"paid\" : random.randint(50,500),\n",
    "                    \"unpaid\" : 500 - paid,\n",
    "                    \"clubOwnerId\": COTable[row - i - 1],\n",
    "                    \"pitchNum\": 1\n",
    "                }\n",
    "            }\n",
    "    \n",
    "    result = players.insert_one(player)"
   ]
  },
  {
   "cell_type": "code",
   "execution_count": null,
   "metadata": {},
   "outputs": [],
   "source": [
    "PTable = players.find({})"
   ]
  },
  {
   "cell_type": "code",
   "execution_count": null,
   "metadata": {},
   "outputs": [],
   "source": [
    "event = db.events\n",
    "\n",
    "for i in range(rows):\n",
    "    if(i % 100000 == 0):\n",
    "        print(i)\n",
    "    event = {   \"name\": names[random.randint(0,length)],\n",
    "                \"startTime\" : get_date(2000,2010),\n",
    "                \"endTime\" : get_date(2010,2020),\n",
    "                \"noOfTeams\": 2,\n",
    "                \"noOfTeamMembers\": 5, \n",
    "                \"availablePlaces\": random.randint(0,10), \n",
    "                \"prize\": random.randint(500,5000), \n",
    "                \"pricePerTeam\": random.randint(25,100),\n",
    "                \"playerUserName\": [PTable[random.randint(0,rows-1)]['_id'], PTable[random.randint(0,rows-1)]['_id']],\n",
    "                \"clubOwnerId\": COTable[i]['_id']\n",
    "            }\n",
    "    \n",
    "    result = events.insert_one(event)"
   ]
  }
 ],
 "metadata": {
  "kernelspec": {
   "display_name": "Python 3",
   "language": "python",
   "name": "python3"
  },
  "language_info": {
   "codemirror_mode": {
    "name": "ipython",
    "version": 3
   },
   "file_extension": ".py",
   "mimetype": "text/x-python",
   "name": "python",
   "nbconvert_exporter": "python",
   "pygments_lexer": "ipython3",
   "version": "3.8.5"
  }
 },
 "nbformat": 4,
 "nbformat_minor": 4
}
