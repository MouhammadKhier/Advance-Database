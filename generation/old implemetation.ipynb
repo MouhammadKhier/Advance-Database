{
 "cells": [
  {
   "cell_type": "code",
   "execution_count": 1,
   "metadata": {},
   "outputs": [],
   "source": [
    "import mysql.connector\n",
    "import random\n",
    "import string\n",
    "import xlrd\n",
    "import xlwt"
   ]
  },
  {
   "cell_type": "code",
   "execution_count": 2,
   "metadata": {},
   "outputs": [],
   "source": [
    "workbook = xlrd.open_workbook('worldcities.xlsx')\n",
    "worksheet = workbook.sheet_by_name('Sheet1')\n",
    "cities = worksheet.col_values(0)\n",
    "lenCities = len(cities) - 1"
   ]
  },
  {
   "cell_type": "code",
   "execution_count": 3,
   "metadata": {},
   "outputs": [],
   "source": [
    "domains = [ \"hotmail.com\", \"gmail.com\", \"aol.com\", \"mail.com\" , \"mail.kz\", \"yahoo.com\"]\n",
    "d = len(domains) - 1"
   ]
  },
  {
   "cell_type": "code",
   "execution_count": 4,
   "metadata": {},
   "outputs": [],
   "source": [
    "workbook = xlrd.open_workbook('names.xls')\n",
    "worksheet = workbook.sheet_by_name('Sheet1')\n",
    "names = worksheet.col_values(0)\n",
    "length = len(names) - 1"
   ]
  },
  {
   "cell_type": "code",
   "execution_count": 5,
   "metadata": {},
   "outputs": [],
   "source": [
    "def get_password(length = 45):\n",
    "    password_characters = string.ascii_letters + string.digits + string.punctuation\n",
    "    password = ''.join(random.choice(password_characters) for i in range(length))\n",
    "    return password\n",
    "\n",
    "def exists(date):\n",
    "    for i in dates:\n",
    "        if(i == date):\n",
    "            return True\n",
    "    return False\n",
    "\n",
    "def get2digitString(num):\n",
    "    if(num<10):\n",
    "        num = '0' + str(num)\n",
    "    else:\n",
    "        num = str(num)\n",
    "    return num\n",
    "\n",
    "def get_date(first, end):\n",
    "    year = str(random.randint(first,end))\n",
    "    \n",
    "    month = get2digitString(random.randint(1,12))\n",
    "    \n",
    "    day = get2digitString(random.randint(1,30))\n",
    "        \n",
    "    return (year + '-' + month + '-' + day)\n",
    "\n",
    "def get_datetime(first, end):\n",
    "    year = str(random.randint(first,end))\n",
    "    \n",
    "    month = get2digitString(random.randint(1,12))\n",
    "    \n",
    "    day = get2digitString(random.randint(1,30))\n",
    "        \n",
    "    hour = get2digitString(random.randint(1,23))\n",
    "    \n",
    "    minute = get2digitString(random.randint(1,59))\n",
    "    \n",
    "    second = get2digitString(random.randint(1,59))\n",
    "        \n",
    "    return (year + month + day + ' ' + hour + ':' + minute + ':' + second)"
   ]
  },
  {
   "cell_type": "code",
   "execution_count": 11,
   "metadata": {},
   "outputs": [],
   "source": [
    "mydb = mysql.connector.connect(host = \"localhost\", user = \"root\", passwd = \"1234\", database = \"arena\")\n",
    "mycursor = mydb.cursor()\n",
    "ten = 1000000\n",
    "hundred = ten"
   ]
  },
  {
   "cell_type": "code",
   "execution_count": 12,
   "metadata": {},
   "outputs": [
    {
     "name": "stdout",
     "output_type": "stream",
     "text": [
      "(248897, 1)\n"
     ]
    }
   ],
   "source": [
    "mycursor.execute(\"select eventId,clubId from arena.event\")\n",
    "eventIDs = mycursor.fetchall()\n",
    "print(eventIDs[0])"
   ]
  },
  {
   "cell_type": "code",
   "execution_count": null,
   "metadata": {},
   "outputs": [],
   "source": [
    "mycursor.execute(\"select id from arena2.club\")\n",
    "clubIDs = mycursor.fetchall()\n",
    "lenClubIDs = len(clubIDs) - 1\n",
    "\n",
    "dates = []\n",
    "\n",
    "for i in range(hundred):\n",
    "    if(i % 100000 == 0):\n",
    "        print(i)\n",
    "    clubId = clubIDs[random.randint(0,lenClubIDs)][0]\n",
    "    yyyy = random.randint(1900,2030)\n",
    "    mm = random.randint(1,12)\n",
    "    dd = random.randint(1,30)\n",
    "    tup = (clubId,yyyy,mm,dd)\n",
    "    while(tup in dates):\n",
    "        clubId = clubIDs[random.randint(0,lenClubIDs)][0]\n",
    "        yyyy = random.randint(1900,2030)\n",
    "        mm = random.randint(1,12)\n",
    "        dd = random.randint(1,30)\n",
    "        tup = (clubId,yyyy,mm,dd)\n",
    "    dates.append(tup)\n",
    "    outcome = random.uniform(0,5000)\n",
    "    income = random.uniform(0,5000)\n",
    "    query = \"INSERT INTO arena2.profit(clubId, yyyy, mm, dd, outcome, income) VALUES(%s, %s, %s, %s, %s, %s);\"\n",
    "    VALUES = (clubId, yyyy, mm, dd, outcome, income)\n",
    "    mycursor.execute(query, VALUES)"
   ]
  },
  {
   "cell_type": "code",
   "execution_count": 1,
   "metadata": {},
   "outputs": [
    {
     "ename": "NameError",
     "evalue": "name 'mycursor' is not defined",
     "output_type": "error",
     "traceback": [
      "\u001b[1;31m---------------------------------------------------------------------------\u001b[0m",
      "\u001b[1;31mNameError\u001b[0m                                 Traceback (most recent call last)",
      "\u001b[1;32m<ipython-input-1-2fd4c6836a4f>\u001b[0m in \u001b[0;36m<module>\u001b[1;34m\u001b[0m\n\u001b[1;32m----> 1\u001b[1;33m \u001b[0mmycursor\u001b[0m\u001b[1;33m.\u001b[0m\u001b[0mexecute\u001b[0m\u001b[1;33m(\u001b[0m\u001b[1;34m\"select clubId,pitch_num from arena.pitch\"\u001b[0m\u001b[1;33m)\u001b[0m\u001b[1;33m\u001b[0m\u001b[1;33m\u001b[0m\u001b[0m\n\u001b[0m\u001b[0;32m      2\u001b[0m \u001b[0mpitchIDs\u001b[0m \u001b[1;33m=\u001b[0m \u001b[0mmycursor\u001b[0m\u001b[1;33m.\u001b[0m\u001b[0mfetchall\u001b[0m\u001b[1;33m(\u001b[0m\u001b[1;33m)\u001b[0m\u001b[1;33m\u001b[0m\u001b[1;33m\u001b[0m\u001b[0m\n\u001b[0;32m      3\u001b[0m \u001b[0mlenPitchIDs\u001b[0m \u001b[1;33m=\u001b[0m \u001b[0mlen\u001b[0m\u001b[1;33m(\u001b[0m\u001b[0mpitchIDs\u001b[0m\u001b[1;33m)\u001b[0m \u001b[1;33m-\u001b[0m \u001b[1;36m1\u001b[0m\u001b[1;33m\u001b[0m\u001b[1;33m\u001b[0m\u001b[0m\n\u001b[0;32m      4\u001b[0m \u001b[1;33m\u001b[0m\u001b[0m\n\u001b[0;32m      5\u001b[0m \u001b[0mdates\u001b[0m\u001b[1;33m.\u001b[0m\u001b[0mclear\u001b[0m\u001b[1;33m(\u001b[0m\u001b[1;33m)\u001b[0m\u001b[1;33m\u001b[0m\u001b[1;33m\u001b[0m\u001b[0m\n",
      "\u001b[1;31mNameError\u001b[0m: name 'mycursor' is not defined"
     ]
    }
   ],
   "source": [
    "mycursor.execute(\"select clubId,pitch_num from arena.pitch\")\n",
    "pitchIDs = mycursor.fetchall()\n",
    "lenPitchIDs = len(pitchIDs) - 1\n",
    "\n",
    "dates.clear()\n",
    "dates = []\n",
    "\n",
    "for i in range(hundred):\n",
    "    if(i % 100000 == 0):\n",
    "        print(i)\n",
    "    yyyy = random.randint(1900,2030)\n",
    "    mm = random.randint(1,12)\n",
    "    dd = random.randint(1,30)\n",
    "    hh = random.randint(1,23)\n",
    "    index = random.randint(0,lenPitchIDs)\n",
    "    clubId = pitchIDs[index][0]\n",
    "    pitch_num = pitchIDs[index][1]\n",
    "    tup = (yyyy,mm,dd,hh,clubId,pitch_num)\n",
    "    while(tup in dates):\n",
    "        yyyy = random.randint(1900,2030)\n",
    "        mm = random.randint(1,12)\n",
    "        dd = random.randint(1,30)\n",
    "        hh = random.randint(1,23)\n",
    "        index = random.randint(0,lenPitchIDs)\n",
    "        clubId = pitchIDs[index][0]\n",
    "        pitch_num = pitchIDs[index][1]\n",
    "        tup = (yyyy,mm,dd,hh,clubId,pitch_num)\n",
    "    dates.append(tup)\n",
    "    paid = random.randint(50,500)\n",
    "    unpaid = 500 - paid\n",
    "    playerUserName = names[random.randint(0,length)]\n",
    "    query = \"INSERT INTO arena.schedule(yyyy, mm, dd, hh, paid, unpaid, clubId, pitch_num, playerUserName) VALUES(%s, %s, %s, %s, %s, %s, %s, %s, %s);\"\n",
    "    VALUES = (yyyy, mm, dd, hh, paid, unpaid, clubId, pitch_num, playerUserName)\n",
    "    mycursor.execute(query, VALUES)"
   ]
  },
  {
   "cell_type": "code",
   "execution_count": 14,
   "metadata": {},
   "outputs": [],
   "source": [
    "mydb.commit()"
   ]
  }
 ],
 "metadata": {
  "kernelspec": {
   "display_name": "Python 3",
   "language": "python",
   "name": "python3"
  },
  "language_info": {
   "codemirror_mode": {
    "name": "ipython",
    "version": 3
   },
   "file_extension": ".py",
   "mimetype": "text/x-python",
   "name": "python",
   "nbconvert_exporter": "python",
   "pygments_lexer": "ipython3",
   "version": "3.8.5"
  }
 },
 "nbformat": 4,
 "nbformat_minor": 4
}
