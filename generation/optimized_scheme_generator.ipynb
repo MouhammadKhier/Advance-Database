{
 "cells": [
  {
   "cell_type": "code",
   "execution_count": 1,
   "metadata": {},
   "outputs": [],
   "source": [
    "import mysql.connector\n",
    "import random\n",
    "import string\n",
    "import xlrd\n",
    "import xlwt"
   ]
  },
  {
   "cell_type": "markdown",
   "metadata": {},
   "source": [
    "## getting cities data set"
   ]
  },
  {
   "cell_type": "code",
   "execution_count": 2,
   "metadata": {},
   "outputs": [],
   "source": [
    "workbook = xlrd.open_workbook('worldcities.xls')\n",
    "worksheet = workbook.sheet_by_name('Sheet1')\n",
    "cities = worksheet.col_values(0)\n",
    "lenCities = len(cities) - 1"
   ]
  },
  {
   "cell_type": "markdown",
   "metadata": {},
   "source": [
    "## different domains for the emails"
   ]
  },
  {
   "cell_type": "code",
   "execution_count": 3,
   "metadata": {},
   "outputs": [],
   "source": [
    "domains = [ \"hotmail.com\", \"gmail.com\", \"aol.com\", \"mail.com\" , \"mail.kz\", \"yahoo.com\"]\n",
    "d = len(domains) - 1"
   ]
  },
  {
   "cell_type": "markdown",
   "metadata": {},
   "source": [
    "## getting names set"
   ]
  },
  {
   "cell_type": "code",
   "execution_count": 4,
   "metadata": {},
   "outputs": [],
   "source": [
    "workbook = xlrd.open_workbook('names.xls')\n",
    "worksheet = workbook.sheet_by_name('Sheet1')\n",
    "names = worksheet.col_values(0)\n",
    "length = len(names) - 1"
   ]
  },
  {
   "cell_type": "code",
   "execution_count": 5,
   "metadata": {},
   "outputs": [],
   "source": [
    "batch_size = 1000\n",
    "print_every = 10000\n",
    "database_name = \"arena100k_optimized\"\n",
    "iterations = batch_size * 100"
   ]
  },
  {
   "cell_type": "markdown",
   "metadata": {},
   "source": [
    "## functions to be used later"
   ]
  },
  {
   "cell_type": "code",
   "execution_count": 6,
   "metadata": {},
   "outputs": [],
   "source": [
    "def get_password(length = 45):\n",
    "    password_characters = string.ascii_letters + string.digits + string.punctuation\n",
    "    password = ''.join(random.choice(password_characters) for i in range(length))\n",
    "    return password\n",
    "\n",
    "def exists(date):\n",
    "    for i in dates:\n",
    "        if(i == date):\n",
    "            return True\n",
    "    return False\n",
    "\n",
    "def get2digitString(num):\n",
    "    if(num<10):\n",
    "        num = '0' + str(num)\n",
    "    else:\n",
    "        num = str(num)\n",
    "    return num\n",
    "\n",
    "def get_date(first, end):\n",
    "    year = str(random.randint(first,end))\n",
    "    \n",
    "    month = get2digitString(random.randint(1,12))\n",
    "    \n",
    "    day = get2digitString(random.randint(1,30))\n",
    "        \n",
    "    return (year + '-' + month + '-' + day)\n",
    "\n",
    "def get_datetime(first, end):\n",
    "    year = str(random.randint(first,end))\n",
    "    \n",
    "    month = get2digitString(random.randint(1,12))\n",
    "    \n",
    "    day = get2digitString(random.randint(1,30))\n",
    "        \n",
    "    hour = get2digitString(random.randint(1,23))\n",
    "    \n",
    "    minute = get2digitString(random.randint(1,59))\n",
    "    \n",
    "    second = get2digitString(random.randint(1,59))\n",
    "        \n",
    "    return (year + month + day + ' ' + hour + ':' + minute + ':' + second)"
   ]
  },
  {
   "cell_type": "markdown",
   "metadata": {},
   "source": [
    "## establishing the connection with the database 'arena'"
   ]
  },
  {
   "cell_type": "code",
   "execution_count": 7,
   "metadata": {},
   "outputs": [],
   "source": [
    "mydb = mysql.connector.connect(host = \"localhost\", user = \"root\", passwd = \"1234\", database = database_name)\n",
    "mycursor = mydb.cursor()"
   ]
  },
  {
   "cell_type": "markdown",
   "metadata": {},
   "source": [
    "# filling the tables\n",
    "\n",
    "## club_owner"
   ]
  },
  {
   "cell_type": "code",
   "execution_count": 10,
   "metadata": {},
   "outputs": [
    {
     "name": "stdout",
     "output_type": "stream",
     "text": [
      "10000\n",
      "20000\n",
      "30000\n",
      "40000\n",
      "50000\n",
      "60000\n",
      "70000\n",
      "80000\n",
      "90000\n",
      "100000\n"
     ]
    }
   ],
   "source": [
    "query = \"INSERT INTO \"+database_name+\".club_owner(userName, password, firstName, lastName, email, phone, clubName, clubStreet, clubCity) VALUES(%s, %s, %s, %s, %s, %s, %s, %s, %s);\"\n",
    "data = []\n",
    "\n",
    "for i in range(iterations):\n",
    "    if((i + 1) % print_every == 0):\n",
    "        print(i + 1)\n",
    "    userName = names[random.randint(0,length)]\n",
    "    password = get_password()\n",
    "    firstName = names[random.randint(0,length)]\n",
    "    lastName = names[random.randint(0,length)]\n",
    "    clubName = names[random.randint(0,length)]\n",
    "    clubStreet = names[random.randint(0,length)] + \".st\"\n",
    "    clubCity = cities[random.randint(0,lenCities)]\n",
    "    email = userName + str(i) + '@' + domains[random.randint(0,d)]  # the i is added to make sure no email will be duplicated\n",
    "    phone = random.randint(1000000000, 1999999999)\n",
    "    values = (userName, password, firstName, lastName, email, phone, clubName, clubStreet, clubCity)\n",
    "    data.append(values)\n",
    "    # Execute query on the batch\n",
    "    if((i + 1) % batch_size == 0):\n",
    "        mycursor.executemany(query, data)\n",
    "        mydb.commit()\n",
    "        data = []"
   ]
  },
  {
   "cell_type": "markdown",
   "metadata": {},
   "source": [
    "## player"
   ]
  },
  {
   "cell_type": "code",
   "execution_count": 11,
   "metadata": {},
   "outputs": [
    {
     "name": "stdout",
     "output_type": "stream",
     "text": [
      "10000\n",
      "20000\n",
      "30000\n",
      "40000\n",
      "50000\n",
      "60000\n",
      "70000\n",
      "80000\n",
      "90000\n",
      "100000\n"
     ]
    }
   ],
   "source": [
    "query = \"INSERT INTO \"+database_name+\".player(userName, password, firstName, lastName, email, yyyy, mm, dd, visa, phone) VALUES(%s, %s, %s, %s, %s, %s, %s, %s, %s, %s);\"\n",
    "data = []\n",
    "\n",
    "for i in range(iterations):\n",
    "    if((i + 1) % print_every == 0):\n",
    "        print(i + 1)\n",
    "    userName = names[random.randint(0,length)]\n",
    "    password = get_password()\n",
    "    firstName = names[random.randint(0,length)]\n",
    "    lastName = names[random.randint(0,length)]\n",
    "    email = userName + str(i) + '@' + domains[random.randint(0,d)]  # the i is added to make sure no email will be duplicated\n",
    "    yyyy = random.randint(1950,2002)\n",
    "    mm = random.randint(1,12)\n",
    "    dd = random.randint(1,30)\n",
    "    visa = random.randint(1000000000000000,9999999999999999)\n",
    "    phone = random.randint(1000000000, 1999999999)\n",
    "    values = (userName, password, firstName, lastName, email, yyyy, mm, dd, visa, phone)\n",
    "    data.append(values)\n",
    "    # Execute query on the batch\n",
    "    if((i + 1) % batch_size == 0):\n",
    "        mycursor.executemany(query, data)\n",
    "        mydb.commit()\n",
    "        data = []\n",
    "    "
   ]
  },
  {
   "cell_type": "markdown",
   "metadata": {},
   "source": [
    "## profit"
   ]
  },
  {
   "cell_type": "code",
   "execution_count": 13,
   "metadata": {},
   "outputs": [
    {
     "name": "stdout",
     "output_type": "stream",
     "text": [
      "10000\n",
      "20000\n",
      "30000\n",
      "40000\n",
      "50000\n",
      "60000\n",
      "70000\n",
      "80000\n",
      "90000\n",
      "100000\n"
     ]
    }
   ],
   "source": [
    "mycursor.execute(\"select id from \"+database_name+\".club_owner\")\n",
    "clubIDs = mycursor.fetchall()\n",
    "lenClubIDs = len(clubIDs) - 1\n",
    "\n",
    "data = []\n",
    "query = \"INSERT INTO \"+database_name+\".profit(clubId, yyyy, mm, dd, outcome, income) VALUES(%s, %s, %s, %s, %s, %s);\"\n",
    "\n",
    "for i in range(iterations):\n",
    "    if((i + 1) % print_every == 0):\n",
    "        print(i + 1)\n",
    "    clubId = clubIDs[i][0]\n",
    "    yyyy = random.randint(1900,2030)\n",
    "    mm = random.randint(1,12)\n",
    "    dd = random.randint(1,30)\n",
    "    outcome = random.uniform(0,5000)\n",
    "    income = random.uniform(0,5000)\n",
    "\n",
    "    values = (clubId, yyyy, mm, dd, outcome, income)\n",
    "    data.append(values)\n",
    "    # Execute query on the batch\n",
    "    if((i + 1) % batch_size == 0):\n",
    "        mycursor.executemany(query, data)\n",
    "        mydb.commit()\n",
    "        data = []"
   ]
  },
  {
   "cell_type": "markdown",
   "metadata": {},
   "source": [
    "## event"
   ]
  },
  {
   "cell_type": "code",
   "execution_count": 14,
   "metadata": {},
   "outputs": [
    {
     "name": "stdout",
     "output_type": "stream",
     "text": [
      "10000\n",
      "20000\n",
      "30000\n",
      "40000\n",
      "50000\n",
      "60000\n",
      "70000\n",
      "80000\n",
      "90000\n",
      "100000\n"
     ]
    }
   ],
   "source": [
    "query = \"INSERT INTO \"+database_name+\".event(clubId, name, Syyyy, Smm, Sdd, Shh, Eyyyy, Emm, Edd, Ehh, noOfTeams, noOfTeamMembers, availablePlaces, prize, pricePerTeam) VALUES(%s, %s, %s, %s, %s, %s, %s, %s, %s, %s, %s, %s, %s, %s, %s);\"\n",
    "data = []\n",
    "\n",
    "for i in range(iterations):\n",
    "    if((i + 1) % print_every == 0):\n",
    "        print(i + 1)\n",
    "    clubId = clubIDs[random.randint(0,lenClubIDs)][0]\n",
    "    name = names[random.randint(0,length)]\n",
    "    Syyyy = random.randint(2000,2010)\n",
    "    Smm = random.randint(1,12)\n",
    "    Sdd = random.randint(1,30)\n",
    "    Shh = random.randint(1,23)\n",
    "    Eyyyy = random.randint(2010,2020)\n",
    "    Emm = random.randint(1,12)\n",
    "    Edd = random.randint(1,30)\n",
    "    Ehh = random.randint(1,23)\n",
    "    noOfTeam = random.randint(5,10)\n",
    "    noOfTeamMembers = random.randint(10,20)\n",
    "    availablePlaces = random.randint(0,10)\n",
    "    prize = random.randint(500,5000)\n",
    "    pricePerTeam = random.randint(25,100)\n",
    "    \n",
    "    values = (clubId, name, Syyyy, Smm, Sdd, Shh, Eyyyy, Emm, Edd, Ehh, noOfTeam, noOfTeamMembers, availablePlaces, prize, pricePerTeam)\n",
    "    data.append(values)\n",
    "    # Execute query on the batch\n",
    "    if((i + 1) % batch_size == 0):\n",
    "        mycursor.executemany(query, data)\n",
    "        mydb.commit()\n",
    "        data = []"
   ]
  },
  {
   "cell_type": "markdown",
   "metadata": {},
   "source": [
    "## pitch"
   ]
  },
  {
   "cell_type": "code",
   "execution_count": 15,
   "metadata": {},
   "outputs": [
    {
     "name": "stdout",
     "output_type": "stream",
     "text": [
      "10000\n",
      "20000\n",
      "30000\n",
      "40000\n",
      "50000\n",
      "60000\n",
      "70000\n",
      "80000\n",
      "90000\n",
      "100000\n"
     ]
    }
   ],
   "source": [
    "capacities = [5, 7, 11]\n",
    "query = \"INSERT INTO \"+database_name+\".pitch(clubId, pitch_num, capacity, price, type) VALUES(%s, %s, %s, %s, %s);\"\n",
    "data = []\n",
    "\n",
    "for i in range(iterations):\n",
    "    if((i + 1) % print_every == 0):\n",
    "        print(i + 1)\n",
    "    clubId = clubIDs[i][0]\n",
    "    number_of_pitches_in_club = random.randint(1,3)\n",
    "    for j in range(number_of_pitches_in_club):\n",
    "        pitch_num = j + 1\n",
    "        capacity = capacities[random.randint(0,2)]\n",
    "        price = random.uniform(25,100)\n",
    "        tp = random.randint(0,2)\n",
    "        values = (clubId, pitch_num, capacity, price, tp)\n",
    "        data.append(values)\n",
    "        \n",
    "    # Execute query on the batch\n",
    "    if((i + 1) % batch_size == 0):\n",
    "        mycursor.executemany(query, data)\n",
    "        mydb.commit()\n",
    "        data = []"
   ]
  },
  {
   "cell_type": "markdown",
   "metadata": {},
   "source": [
    "## schedule"
   ]
  },
  {
   "cell_type": "code",
   "execution_count": 18,
   "metadata": {},
   "outputs": [
    {
     "name": "stdout",
     "output_type": "stream",
     "text": [
      "10000\n",
      "20000\n",
      "30000\n",
      "40000\n",
      "50000\n",
      "60000\n",
      "70000\n",
      "80000\n",
      "90000\n",
      "100000\n",
      "110000\n",
      "120000\n",
      "130000\n",
      "140000\n",
      "150000\n",
      "160000\n",
      "170000\n",
      "180000\n",
      "190000\n"
     ]
    }
   ],
   "source": [
    "mycursor.execute(\"select id from \"+database_name+\".club_owner\")\n",
    "ownerIDs = mycursor.fetchall()\n",
    "lenOwnerIDs = len(ownerIDs)  - 1\n",
    "\n",
    "mycursor.execute(\"select clubId,pitch_num from \"+database_name+\".pitch\")\n",
    "pitchIDs = mycursor.fetchall()\n",
    "lenPitchIDs = len(pitchIDs) - 1\n",
    "\n",
    "query = \"INSERT INTO \"+database_name+\".schedule(yyyy, mm, dd, hh, paid, unpaid, clubId, pitch_num, playerId) VALUES(%s, %s, %s, %s, %s, %s, %s, %s, %s);\"\n",
    "data = []    \n",
    "\n",
    "for i in range(len(pitchIDs)):\n",
    "    if((i + 1) % print_every == 0):\n",
    "        print(i + 1)\n",
    "    number_of_reservations = random.randint(0,2)\n",
    "    clubId = pitchIDs[i][0]\n",
    "    pitch_num = pitchIDs[i][1]\n",
    "    for j in range(number_of_reservations):\n",
    "        yyyy = random.randint(1900,2030)\n",
    "        mm = random.randint(1,12)\n",
    "        dd = random.randint(1+j*10,(j+1)*10)\n",
    "        hh = random.randint(1,23)\n",
    "        index = random.randint(0,lenPitchIDs)\n",
    "        paid = random.randint(50,500)\n",
    "        unpaid = 500 - paid\n",
    "        playerId = ownerIDs[random.randint(0,lenOwnerIDs)][0]\n",
    "        values = (yyyy, mm, dd, hh, paid, unpaid, clubId, pitch_num, playerId)\n",
    "        data.append(values)\n",
    "    \n",
    "    # Execute query on the batch\n",
    "    if((i + 1) % batch_size == 0):\n",
    "        mycursor.executemany(query, data)\n",
    "        mydb.commit()\n",
    "        data = []\n",
    "        \n",
    "if not data:\n",
    "    mycursor.executemany(query, data)\n",
    "    mydb.commit()\n",
    "    data = []\n",
    "        "
   ]
  },
  {
   "cell_type": "markdown",
   "metadata": {},
   "source": [
    "## participate"
   ]
  },
  {
   "cell_type": "code",
   "execution_count": 19,
   "metadata": {},
   "outputs": [
    {
     "name": "stdout",
     "output_type": "stream",
     "text": [
      "10000\n",
      "20000\n",
      "30000\n",
      "40000\n",
      "50000\n",
      "60000\n",
      "70000\n",
      "80000\n",
      "90000\n",
      "100000\n"
     ]
    }
   ],
   "source": [
    "mycursor.execute(\"select eventId,clubId from \"+database_name+\".event\")\n",
    "eventIDs = mycursor.fetchall()\n",
    "lenEventIDs = len(eventIDs) - 1\n",
    "data = []\n",
    "query = \"INSERT INTO \"+database_name+\".participate(playerId, eventId, clubId) VALUES(%s, %s, %s);\"\n",
    "\n",
    "for i in range(iterations):\n",
    "    if((i + 1) % print_every == 0):\n",
    "        print(i + 1)\n",
    "    playerId = ownerIDs[i][0]\n",
    "    number_of_events_for_the_player = random.randint(0,2)\n",
    "    assigned_events = []\n",
    "    for j in  range(number_of_events_for_the_player):\n",
    "        index = random.randint(0,lenEventIDs)\n",
    "        while index in assigned_events:\n",
    "            index = random.randint(0,lenEventIDs)\n",
    "        assigned_events.append(index)\n",
    "        eventId = eventIDs[index][0]\n",
    "        clubId = eventIDs[index][1]\n",
    "        values = (playerId, eventId, clubId)\n",
    "        data.append(values)\n",
    "        \n",
    "    \n",
    "    # Execute query on the batch\n",
    "    if((i + 1) % batch_size == 0):\n",
    "        mycursor.executemany(query, data)\n",
    "        mydb.commit()\n",
    "        data = []"
   ]
  }
 ],
 "metadata": {
  "kernelspec": {
   "display_name": "Python 3",
   "language": "python",
   "name": "python3"
  },
  "language_info": {
   "codemirror_mode": {
    "name": "ipython",
    "version": 3
   },
   "file_extension": ".py",
   "mimetype": "text/x-python",
   "name": "python",
   "nbconvert_exporter": "python",
   "pygments_lexer": "ipython3",
   "version": "3.7.5"
  }
 },
 "nbformat": 4,
 "nbformat_minor": 4
}
