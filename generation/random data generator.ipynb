{
 "cells": [
  {
   "cell_type": "code",
   "execution_count": 1,
   "metadata": {},
   "outputs": [],
   "source": [
    "import mysql.connector\n",
    "import random\n",
    "import string\n",
    "import xlrd\n",
    "import xlwt"
   ]
  },
  {
   "cell_type": "markdown",
   "metadata": {},
   "source": [
    "## getting cities data set"
   ]
  },
  {
   "cell_type": "code",
   "execution_count": 2,
   "metadata": {},
   "outputs": [],
   "source": [
    "workbook = xlrd.open_workbook('worldcities.xlsx')\n",
    "worksheet = workbook.sheet_by_name('Sheet1')\n",
    "cities = worksheet.col_values(0)\n",
    "lenCities = len(cities) - 1"
   ]
  },
  {
   "cell_type": "markdown",
   "metadata": {},
   "source": [
    "## different domains for the emails"
   ]
  },
  {
   "cell_type": "code",
   "execution_count": 3,
   "metadata": {},
   "outputs": [],
   "source": [
    "domains = [ \"hotmail.com\", \"gmail.com\", \"aol.com\", \"mail.com\" , \"mail.kz\", \"yahoo.com\"]\n",
    "d = len(domains) - 1"
   ]
  },
  {
   "cell_type": "markdown",
   "metadata": {},
   "source": [
    "## getting names set"
   ]
  },
  {
   "cell_type": "code",
   "execution_count": 4,
   "metadata": {},
   "outputs": [],
   "source": [
    "workbook = xlrd.open_workbook('names.xls')\n",
    "worksheet = workbook.sheet_by_name('Sheet1')\n",
    "names = worksheet.col_values(0)\n",
    "length = len(names) - 1"
   ]
  },
  {
   "cell_type": "markdown",
   "metadata": {},
   "source": [
    "## functions to be used later"
   ]
  },
  {
   "cell_type": "code",
   "execution_count": 5,
   "metadata": {},
   "outputs": [],
   "source": [
    "def get_password(length = 45):\n",
    "    password_characters = string.ascii_letters + string.digits + string.punctuation\n",
    "    password = ''.join(random.choice(password_characters) for i in range(length))\n",
    "    return password\n",
    "\n",
    "def exists(date):\n",
    "    for i in dates:\n",
    "        if(i == date):\n",
    "            return True\n",
    "    return False\n",
    "\n",
    "def get2digitString(num):\n",
    "    if(num<10):\n",
    "        num = '0' + str(num)\n",
    "    else:\n",
    "        num = str(num)\n",
    "    return num\n",
    "\n",
    "def get_date(first, end):\n",
    "    year = str(random.randint(first,end))\n",
    "    \n",
    "    month = get2digitString(random.randint(1,12))\n",
    "    \n",
    "    day = get2digitString(random.randint(1,30))\n",
    "        \n",
    "    return (year + '-' + month + '-' + day)\n",
    "\n",
    "def get_datetime(first, end):\n",
    "    year = str(random.randint(first,end))\n",
    "    \n",
    "    month = get2digitString(random.randint(1,12))\n",
    "    \n",
    "    day = get2digitString(random.randint(1,30))\n",
    "        \n",
    "    hour = get2digitString(random.randint(1,23))\n",
    "    \n",
    "    minute = get2digitString(random.randint(1,59))\n",
    "    \n",
    "    second = get2digitString(random.randint(1,59))\n",
    "        \n",
    "    return (year + month + day + ' ' + hour + ':' + minute + ':' + second)"
   ]
  },
  {
   "cell_type": "markdown",
   "metadata": {},
   "source": [
    "## establishing the connection with the database 'arena'"
   ]
  },
  {
   "cell_type": "code",
   "execution_count": null,
   "metadata": {},
   "outputs": [],
   "source": [
    "mydb = mysql.connector.connect(host = \"localhost\", user = \"root\", passwd = \"1234\", database = \"arena2\")\n",
    "mycursor = mydb.cursor()\n",
    "ten = 1000000\n",
    "hundred = ten"
   ]
  },
  {
   "cell_type": "markdown",
   "metadata": {},
   "source": [
    "# filling the tables\n",
    "\n",
    "## club_owner"
   ]
  },
  {
   "cell_type": "code",
   "execution_count": 7,
   "metadata": {},
   "outputs": [
    {
     "name": "stdout",
     "output_type": "stream",
     "text": [
      "0\n",
      "100000\n",
      "200000\n",
      "300000\n"
     ]
    },
    {
     "ename": "KeyboardInterrupt",
     "evalue": "",
     "output_type": "error",
     "traceback": [
      "\u001b[1;31m---------------------------------------------------------------------------\u001b[0m",
      "\u001b[1;31mKeyboardInterrupt\u001b[0m                         Traceback (most recent call last)",
      "\u001b[1;32m<ipython-input-7-57ee4ec8a54f>\u001b[0m in \u001b[0;36m<module>\u001b[1;34m\u001b[0m\n\u001b[0;32m     10\u001b[0m     \u001b[0mquery\u001b[0m \u001b[1;33m=\u001b[0m \u001b[1;34m\"INSERT INTO arena2.club_owner(userName, password, firstName, lastName, email, phone) VALUES(%s, %s, %s, %s, %s, %s);\"\u001b[0m\u001b[1;33m\u001b[0m\u001b[1;33m\u001b[0m\u001b[0m\n\u001b[0;32m     11\u001b[0m     \u001b[0mVALUES\u001b[0m \u001b[1;33m=\u001b[0m \u001b[1;33m(\u001b[0m\u001b[0muserName\u001b[0m\u001b[1;33m,\u001b[0m \u001b[0mpassword\u001b[0m\u001b[1;33m,\u001b[0m \u001b[0mfirstName\u001b[0m\u001b[1;33m,\u001b[0m \u001b[0mlastName\u001b[0m\u001b[1;33m,\u001b[0m \u001b[0memail\u001b[0m\u001b[1;33m,\u001b[0m \u001b[0mphone\u001b[0m\u001b[1;33m)\u001b[0m\u001b[1;33m\u001b[0m\u001b[1;33m\u001b[0m\u001b[0m\n\u001b[1;32m---> 12\u001b[1;33m     \u001b[0mmycursor\u001b[0m\u001b[1;33m.\u001b[0m\u001b[0mexecute\u001b[0m\u001b[1;33m(\u001b[0m\u001b[0mquery\u001b[0m\u001b[1;33m,\u001b[0m \u001b[0mVALUES\u001b[0m\u001b[1;33m)\u001b[0m\u001b[1;33m\u001b[0m\u001b[1;33m\u001b[0m\u001b[0m\n\u001b[0m",
      "\u001b[1;32m~\\anaconda3\\lib\\site-packages\\mysql\\connector\\cursor_cext.py\u001b[0m in \u001b[0;36mexecute\u001b[1;34m(self, operation, params, multi)\u001b[0m\n\u001b[0;32m    262\u001b[0m \u001b[1;33m\u001b[0m\u001b[0m\n\u001b[0;32m    263\u001b[0m         \u001b[1;32mtry\u001b[0m\u001b[1;33m:\u001b[0m\u001b[1;33m\u001b[0m\u001b[1;33m\u001b[0m\u001b[0m\n\u001b[1;32m--> 264\u001b[1;33m             result = self._cnx.cmd_query(stmt, raw=self._raw,\n\u001b[0m\u001b[0;32m    265\u001b[0m                                          \u001b[0mbuffered\u001b[0m\u001b[1;33m=\u001b[0m\u001b[0mself\u001b[0m\u001b[1;33m.\u001b[0m\u001b[0m_buffered\u001b[0m\u001b[1;33m,\u001b[0m\u001b[1;33m\u001b[0m\u001b[1;33m\u001b[0m\u001b[0m\n\u001b[0;32m    266\u001b[0m                                          raw_as_string=self._raw_as_string)\n",
      "\u001b[1;32m~\\anaconda3\\lib\\site-packages\\mysql\\connector\\connection_cext.py\u001b[0m in \u001b[0;36mcmd_query\u001b[1;34m(self, query, raw, buffered, raw_as_string)\u001b[0m\n\u001b[0;32m    502\u001b[0m             \u001b[1;32mif\u001b[0m \u001b[1;32mnot\u001b[0m \u001b[0misinstance\u001b[0m\u001b[1;33m(\u001b[0m\u001b[0mquery\u001b[0m\u001b[1;33m,\u001b[0m \u001b[0mbytes\u001b[0m\u001b[1;33m)\u001b[0m\u001b[1;33m:\u001b[0m\u001b[1;33m\u001b[0m\u001b[1;33m\u001b[0m\u001b[0m\n\u001b[0;32m    503\u001b[0m                 \u001b[0mquery\u001b[0m \u001b[1;33m=\u001b[0m \u001b[0mquery\u001b[0m\u001b[1;33m.\u001b[0m\u001b[0mencode\u001b[0m\u001b[1;33m(\u001b[0m\u001b[1;34m'utf-8'\u001b[0m\u001b[1;33m)\u001b[0m\u001b[1;33m\u001b[0m\u001b[1;33m\u001b[0m\u001b[0m\n\u001b[1;32m--> 504\u001b[1;33m             self._cmysql.query(query,\n\u001b[0m\u001b[0;32m    505\u001b[0m                                \u001b[0mraw\u001b[0m\u001b[1;33m=\u001b[0m\u001b[0mraw\u001b[0m\u001b[1;33m,\u001b[0m \u001b[0mbuffered\u001b[0m\u001b[1;33m=\u001b[0m\u001b[0mbuffered\u001b[0m\u001b[1;33m,\u001b[0m\u001b[1;33m\u001b[0m\u001b[1;33m\u001b[0m\u001b[0m\n\u001b[0;32m    506\u001b[0m                                raw_as_string=raw_as_string)\n",
      "\u001b[1;31mKeyboardInterrupt\u001b[0m: "
     ]
    }
   ],
   "source": [
    "for i in range(hundred):\n",
    "    if(i % 100000 == 0):\n",
    "        print(i)\n",
    "    userName = names[random.randint(0,length)]\n",
    "    password = get_password()\n",
    "    firstName = names[random.randint(0,length)]\n",
    "    lastName = names[random.randint(0,length)]\n",
    "    email = userName + str(i) + '@' + domains[random.randint(0,d)]  # the i is added to make sure no email will be duplicated\n",
    "    phone = random.randint(1000000000, 1999999999)\n",
    "    query = \"INSERT INTO arena2.club_owner(userName, password, firstName, lastName, email, phone) VALUES(%s, %s, %s, %s, %s, %s);\"\n",
    "    VALUES = (userName, password, firstName, lastName, email, phone)\n",
    "    mycursor.execute(query, VALUES)"
   ]
  },
  {
   "cell_type": "markdown",
   "metadata": {},
   "source": [
    "## player"
   ]
  },
  {
   "cell_type": "code",
   "execution_count": null,
   "metadata": {},
   "outputs": [],
   "source": [
    "for i in range(hundred):\n",
    "    if(i % 100000 == 0):\n",
    "        print(i)\n",
    "    userName = names[random.randint(0,length)]\n",
    "    password = get_password()\n",
    "    firstName = names[random.randint(0,length)]\n",
    "    lastName = names[random.randint(0,length)]\n",
    "    email = userName + str(i) + '@' + domains[random.randint(0,d)]  # the i is added to make sure no email will be duplicated\n",
    "    yyyy = random.randint(1950,2002)\n",
    "    mm = random.randint(1,12)\n",
    "    dd = random.randint(1,30)\n",
    "    visa = random.randint(1000000000000000,9999999999999999)\n",
    "    phone = random.randint(1000000000, 1999999999)\n",
    "    query = \"INSERT INTO arena2.player(userName, password, firstName, lastName, email, yyyy, mm, dd, visa, phone) VALUES(%s, %s, %s, %s, %s, %s, %s, %s, %s, %s);\"\n",
    "    VALUES = (userName, password, firstName, lastName, email, yyyy, mm, dd, visa, phone)\n",
    "    mycursor.execute(query, VALUES)"
   ]
  },
  {
   "cell_type": "markdown",
   "metadata": {},
   "source": [
    "## club"
   ]
  },
  {
   "cell_type": "code",
   "execution_count": null,
   "metadata": {},
   "outputs": [],
   "source": [
    "mycursor.execute(\"select id from arena2.club_owner\")\n",
    "ownerIDs = mycursor.fetchall()\n",
    "lenOwnerIDs = len(ownerIDs) - 1\n",
    "\n",
    "for i in range(hundred):\n",
    "    if(i % 100000 == 0):\n",
    "        print(i)\n",
    "    name = names[random.randint(0,length)]\n",
    "    street = names[random.randint(0,length)] + \".st\"\n",
    "    city = cities[random.randint(0,lenCities)]\n",
    "    club_owner = ownerIDs[random.randint(0,lenOwnerIDs)][0]\n",
    "    query = \"INSERT INTO arena2.club(name, street, city, club_owner) VALUES(%s, %s, %s, %s);\"\n",
    "    VALUES = (name, street, city, club_owner)\n",
    "    mycursor.execute(query, VALUES)"
   ]
  },
  {
   "cell_type": "markdown",
   "metadata": {},
   "source": [
    "## profit"
   ]
  },
  {
   "cell_type": "code",
   "execution_count": null,
   "metadata": {},
   "outputs": [],
   "source": [
    "mycursor.execute(\"select id from arena2.club\")\n",
    "clubIDs = mycursor.fetchall()\n",
    "lenClubIDs = len(clubIDs) - 1\n",
    "\n",
    "dates = []\n",
    "\n",
    "for i in range(hundred):\n",
    "    if(i % 100000 == 0):\n",
    "        print(i)\n",
    "    clubId = clubIDs[hundred - i - 1][0]\n",
    "    yyyy = random.randint(1900,2030)\n",
    "    mm = random.randint(1,12)\n",
    "    dd = random.randint(1,30)\n",
    "    outcome = random.uniform(0,5000)\n",
    "    income = random.uniform(0,5000)\n",
    "    query = \"INSERT INTO arena2.profit(clubId, yyyy, mm, dd, outcome, income) VALUES(%s, %s, %s, %s, %s, %s);\"\n",
    "    VALUES = (clubId, yyyy, mm, dd, outcome, income)\n",
    "    mycursor.execute(query, VALUES)"
   ]
  },
  {
   "cell_type": "markdown",
   "metadata": {},
   "source": [
    "## event"
   ]
  },
  {
   "cell_type": "code",
   "execution_count": null,
   "metadata": {},
   "outputs": [],
   "source": [
    "for i in range(hundred):\n",
    "    if(i % 100000 == 0):\n",
    "        print(i)\n",
    "    clubId = clubIDs[random.randint(0,lenClubIDs)][0]\n",
    "    name = names[random.randint(0,length)]\n",
    "    Syyyy = random.randint(2000,2010)\n",
    "    Smm = random.randint(1,12)\n",
    "    Sdd = random.randint(1,30)\n",
    "    Shh = random.randint(1,23)\n",
    "    Eyyyy = random.randint(2010,2020)\n",
    "    Emm = random.randint(1,12)\n",
    "    Edd = random.randint(1,30)\n",
    "    Ehh = random.randint(1,23)\n",
    "    noOfTeam = random.randint(5,10)\n",
    "    noOfTeamMembers = random.randint(10,20)\n",
    "    availablePlaces = random.randint(0,10)\n",
    "    prize = random.randint(500,5000)\n",
    "    pricePerTeam = random.randint(25,100)\n",
    "    query = \"INSERT INTO arena2.event(clubId, name, Syyyy, Smm, Sdd, Shh, Eyyyy, Emm, Edd, Ehh, noOfTeams, noOfTeamMembers, availablePlaces, prize, pricePerTeam) VALUES(%s, %s, %s, %s, %s, %s, %s, %s, %s, %s, %s, %s, %s, %s, %s);\"\n",
    "    VALUES = (clubId, name, Syyyy, Smm, Sdd, Shh, Eyyyy, Emm, Edd, Ehh, noOfTeam, noOfTeamMembers, availablePlaces, prize, pricePerTeam)\n",
    "    mycursor.execute(query, VALUES)"
   ]
  },
  {
   "cell_type": "markdown",
   "metadata": {},
   "source": [
    "## pitch"
   ]
  },
  {
   "cell_type": "code",
   "execution_count": null,
   "metadata": {},
   "outputs": [],
   "source": [
    "capacities = [5, 7, 11]\n",
    "\n",
    "for i in range(hundred):\n",
    "    if(i % 100000 == 0):\n",
    "        print(i)\n",
    "    clubId = clubIDs[random.randint(0,lenClubIDs)][0]\n",
    "    pitch_num = i\n",
    "    capacity = capacities[random.randint(0,2)]\n",
    "    price = random.uniform(25,100)\n",
    "    tp = random.randint(0,2)\n",
    "    query = \"INSERT INTO arena2.pitch(clubId, pitch_num, capacity, price, type) VALUES(%s, %s, %s, %s, %s);\"\n",
    "    VALUES = (clubId, pitch_num, capacity, price, tp)\n",
    "    mycursor.execute(query, VALUES)"
   ]
  },
  {
   "cell_type": "markdown",
   "metadata": {},
   "source": [
    "## schedule"
   ]
  },
  {
   "cell_type": "code",
   "execution_count": null,
   "metadata": {},
   "outputs": [],
   "source": [
    "mycursor.execute(\"select clubId,pitch_num from arena2.pitch\")\n",
    "pitchIDs = mycursor.fetchall()\n",
    "lenPitchIDs = len(pitchIDs) - 1\n",
    "\n",
    "dates.clear()\n",
    "dates = []\n",
    "\n",
    "for i in range(hundred):\n",
    "    if(i % 100000 == 0):\n",
    "        print(i)\n",
    "    yyyy = random.randint(1900,2030)\n",
    "    mm = random.randint(1,12)\n",
    "    dd = random.randint(1,30)\n",
    "    hh = random.randint(1,23)\n",
    "    index = random.randint(0,lenPitchIDs)\n",
    "    clubId = pitchIDs[hundred - i - 1][0]\n",
    "    pitch_num = pitchIDs[hundred - i - 1][1]\n",
    "    dates.append(tup)\n",
    "    paid = random.randint(50,500)\n",
    "    unpaid = 500 - paid\n",
    "    playerUserName = names[random.randint(0,length)]\n",
    "    query = \"INSERT INTO arena2.schedule(yyyy, mm, dd, hh, paid, unpaid, clubId, pitch_num, playerUserName) VALUES(%s, %s, %s, %s, %s, %s, %s, %s, %s);\"\n",
    "    VALUES = (yyyy, mm, dd, hh, paid, unpaid, clubId, pitch_num, playerUserName)\n",
    "    mycursor.execute(query, VALUES)"
   ]
  },
  {
   "cell_type": "markdown",
   "metadata": {},
   "source": [
    "## participate"
   ]
  },
  {
   "cell_type": "code",
   "execution_count": null,
   "metadata": {},
   "outputs": [],
   "source": [
    "mycursor.execute(\"select eventId,clubId from arena2.event\")\n",
    "eventIDs = mycursor.fetchall()\n",
    "lenEventIDs = len(eventIDs) - 1\n",
    "\n",
    "for i in range(hundred):\n",
    "    if(i % 100000 == 0):\n",
    "        print(i)\n",
    "    playerUserName = names[random.randint(0,length)]\n",
    "    index = random.randint(0,lenEventIDs)\n",
    "    eventId = eventIDs[index][0]\n",
    "    clubId = eventIDs[index][1]\n",
    "    query = \"INSERT INTO arena2.participate(playerUserName, eventId, clubId) VALUES(%s, %s, %s);\"\n",
    "    VALUES = (playerUserName, eventId, clubId)\n",
    "    mycursor.execute(query, VALUES)"
   ]
  },
  {
   "cell_type": "code",
   "execution_count": null,
   "metadata": {},
   "outputs": [],
   "source": [
    "mydb.commit()"
   ]
  },
  {
   "cell_type": "code",
   "execution_count": null,
   "metadata": {},
   "outputs": [],
   "source": [
    "mycursor.execute(\"select eventId,clubId from arena2.event\")\n",
    "eventIDs = mycursor.fetchall()\n",
    "print(eventIDs[0])"
   ]
  }
 ],
 "metadata": {
  "kernelspec": {
   "display_name": "Python 3",
   "language": "python",
   "name": "python3"
  },
  "language_info": {
   "codemirror_mode": {
    "name": "ipython",
    "version": 3
   },
   "file_extension": ".py",
   "mimetype": "text/x-python",
   "name": "python",
   "nbconvert_exporter": "python",
   "pygments_lexer": "ipython3",
   "version": "3.8.5"
  }
 },
 "nbformat": 4,
 "nbformat_minor": 4
}
